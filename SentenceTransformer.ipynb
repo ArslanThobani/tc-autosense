{
  "nbformat": 4,
  "nbformat_minor": 0,
  "metadata": {
    "colab": {
      "provenance": []
    },
    "kernelspec": {
      "name": "python3",
      "display_name": "Python 3"
    },
    "language_info": {
      "name": "python"
    }
  },
  "cells": [
    {
      "cell_type": "markdown",
      "source": [
        "# Prerequisites"
      ],
      "metadata": {
        "id": "K1eU9uOA0MIA"
      }
    },
    {
      "cell_type": "code",
      "source": [
        "!pip install sentence-transformers\n",
        "from sklearn.metrics.pairwise import cosine_similarity\n",
        "from sentence_transformers import SentenceTransformer\n",
        "\n",
        "!pip install psycopg2"
      ],
      "metadata": {
        "id": "V6kJflzpqHfh"
      },
      "execution_count": null,
      "outputs": []
    },
    {
      "cell_type": "markdown",
      "source": [
        "# Test & Model evaluation"
      ],
      "metadata": {
        "id": "5ZySv35K0U9k"
      }
    },
    {
      "cell_type": "code",
      "source": [
        "sentence = [\"Hallo zusammen, habe mir vor kurzen einem Audi A3 8Y Sportback - S line 35 TFSI S Tronic bestellt. Leider konnte man damals/bis heute bei der Bestellung keine Rückfahrkamera mit rein konfigurieren. Mein A3 steht jetzt im Juni 2023 zur Abholung bereit. Jetzt möchte ich mir gerne eine Original-Rückfahrkamera (von Audi-Original!) nachrüsten. Gibt es das noch oder auch nicht lieferbar? Welche Kosten kommen da ca. auf mich zu? Danke schonmal für eure Hilfe.\"]\n",
        "\n",
        "features = [\"Ich brauche eine Heckkamera\",\n",
        "             \"Meine Dashcam ist kaputt\",\n",
        "             \"Meine Reifen haben ein Loch\"]\n",
        "sentence += features\n",
        "\n",
        "model = SentenceTransformer('T-Systems-onsite/german-roberta-sentence-transformer-v2')\n",
        "embeddings = model.encode(sentence)\n",
        "\n",
        "similarity_matrix = cosine_similarity(embeddings)\n",
        "\n",
        "# Print the similarity matrix\n",
        "for j in range(len(sentence)):\n",
        "    print(f\"Similarity between '{sentence[0]}' and '{sentence[j]}': {similarity_matrix[0, j]}\")\n"
      ],
      "metadata": {
        "id": "nzQkPHMCrzFy"
      },
      "execution_count": null,
      "outputs": []
    },
    {
      "cell_type": "markdown",
      "source": [
        "```\n",
        "all-MiniLM-L6-v2\n",
        "Similarity between 'Jetzt möchte ich mir gerne eine Original-Rückfahrkamera (von Audi-Original!) nachrüsten.' and 'Jetzt möchte ich mir gerne eine Original-Rückfahrkamera (von Audi-Original!) nachrüsten.': 0.9999998807907104\n",
        "Similarity between 'Jetzt möchte ich mir gerne eine Original-Rückfahrkamera (von Audi-Original!) nachrüsten.' and 'Ich brauche eine Heckkamera': 0.4904746413230896\n",
        "Similarity between 'Jetzt möchte ich mir gerne eine Original-Rückfahrkamera (von Audi-Original!) nachrüsten.' and 'Meine Dashcam ist kaputt': 0.4724730849266052\n",
        "Similarity between 'Jetzt möchte ich mir gerne eine Original-Rückfahrkamera (von Audi-Original!) nachrüsten.' and 'Meine Reifen haben ein Loch': 0.45074477791786194\n",
        "\n",
        "distiluse-base-multilingual-cased\n",
        "Similarity between 'Jetzt möchte ich mir gerne eine Original-Rückfahrkamera (von Audi-Original!) nachrüsten.' and 'Jetzt möchte ich mir gerne eine Original-Rückfahrkamera (von Audi-Original!) nachrüsten.': 0.9999999403953552\n",
        "Similarity between 'Jetzt möchte ich mir gerne eine Original-Rückfahrkamera (von Audi-Original!) nachrüsten.' and 'Ich brauche eine Heckkamera': 0.40080565214157104\n",
        "Similarity between 'Jetzt möchte ich mir gerne eine Original-Rückfahrkamera (von Audi-Original!) nachrüsten.' and 'Meine Dashcam ist kaputt': 0.2627114951610565\n",
        "Similarity between 'Jetzt möchte ich mir gerne eine Original-Rückfahrkamera (von Audi-Original!) nachrüsten.' and 'Meine Reifen haben ein Loch': 0.15211904048919678\n",
        "\n",
        "all-mpnet-base-v2\n",
        "Similarity between 'Jetzt möchte ich mir gerne eine Original-Rückfahrkamera (von Audi-Original!) nachrüsten.' and 'Jetzt möchte ich mir gerne eine Original-Rückfahrkamera (von Audi-Original!) nachrüsten.': 1.0000001192092896\n",
        "Similarity between 'Jetzt möchte ich mir gerne eine Original-Rückfahrkamera (von Audi-Original!) nachrüsten.' and 'Ich brauche eine Heckkamera': 0.4487485885620117\n",
        "Similarity between 'Jetzt möchte ich mir gerne eine Original-Rückfahrkamera (von Audi-Original!) nachrüsten.' and 'Meine Dashcam ist kaputt': 0.39919739961624146\n",
        "Similarity between 'Jetzt möchte ich mir gerne eine Original-Rückfahrkamera (von Audi-Original!) nachrüsten.' and 'Meine Reifen haben ein Loch': 0.4274103343486786\n",
        "\n",
        "multi-qa-mpnet-base-dot-v1\n",
        "Similarity between 'Jetzt möchte ich mir gerne eine Original-Rückfahrkamera (von Audi-Original!) nachrüsten.' and 'Jetzt möchte ich mir gerne eine Original-Rückfahrkamera (von Audi-Original!) nachrüsten.': 0.9999999403953552\n",
        "Similarity between 'Jetzt möchte ich mir gerne eine Original-Rückfahrkamera (von Audi-Original!) nachrüsten.' and 'Ich brauche eine Heckkamera': 0.4428626000881195\n",
        "Similarity between 'Jetzt möchte ich mir gerne eine Original-Rückfahrkamera (von Audi-Original!) nachrüsten.' and 'Meine Dashcam ist kaputt': 0.48663175106048584\n",
        "Similarity between 'Jetzt möchte ich mir gerne eine Original-Rückfahrkamera (von Audi-Original!) nachrüsten.' and 'Meine Reifen haben ein Loch': 0.32912319898605347\n",
        "\n",
        "multi-qa-distilbert-cos-v1\n",
        "Similarity between 'Jetzt möchte ich mir gerne eine Original-Rückfahrkamera (von Audi-Original!) nachrüsten.' and 'Jetzt möchte ich mir gerne eine Original-Rückfahrkamera (von Audi-Original!) nachrüsten.': 0.9999997615814209\n",
        "Similarity between 'Jetzt möchte ich mir gerne eine Original-Rückfahrkamera (von Audi-Original!) nachrüsten.' and 'Ich brauche eine Heckkamera': 0.31338033080101013\n",
        "Similarity between 'Jetzt möchte ich mir gerne eine Original-Rückfahrkamera (von Audi-Original!) nachrüsten.' and 'Meine Dashcam ist kaputt': 0.3035987615585327\n",
        "Similarity between 'Jetzt möchte ich mir gerne eine Original-Rückfahrkamera (von Audi-Original!) nachrüsten.' and 'Meine Reifen haben ein Loch': 0.03462108224630356\n",
        "\n",
        "Similarity between 'Jetzt möchte ich mir gerne eine Original-Rückfahrkamera (von Audi-Original!) nachrüsten.' and 'Jetzt möchte ich mir gerne eine Original-Rückfahrkamera (von Audi-Original!) nachrüsten.': 1.000000238418579\n",
        "Similarity between 'Jetzt möchte ich mir gerne eine Original-Rückfahrkamera (von Audi-Original!) nachrüsten.' and 'Ich brauche eine Heckkamera': 0.4691472053527832\n",
        "Similarity between 'Jetzt möchte ich mir gerne eine Original-Rückfahrkamera (von Audi-Original!) nachrüsten.' and 'Meine Dashcam ist kaputt': 0.26795658469200134\n",
        "Similarity between 'Jetzt möchte ich mir gerne eine Original-Rückfahrkamera (von Audi-Original!) nachrüsten.' and 'Meine Reifen haben ein Loch': 0.12866975367069244\n",
        "```"
      ],
      "metadata": {
        "id": "EI0Mb78TxOCv"
      }
    },
    {
      "cell_type": "markdown",
      "source": [
        "# Topic exploration"
      ],
      "metadata": {
        "id": "0hVsB3Bi0eXB"
      }
    },
    {
      "cell_type": "markdown",
      "source": [
        "Table \"topics\":\n",
        "\n",
        "| name      | example                               |\n",
        "|-----------|---------------------------------------|\n",
        "| Breaks    | I need new breaks                     |\n",
        "| Breaks    | Where can I buy breaks                |\n",
        "| Breaks    | The break disks need to be exchanged  |\n",
        "| Bike Rack | Where can I buy a bike rack           |\n",
        "| Bike Rack | I need to transport a bike            |\n",
        "| Bike Rack | Any recommendations for a bike rack?  |\n",
        "| Lights    | Where can I get a lightbulb?          |\n",
        "| Lights    | The Headlight is not working any more |\n",
        "| Lights    | Blinker is not working                |\n",
        "| ...       | ...                                   |\n",
        "\n",
        "</br></br>\n",
        "Table \"posts\":\n",
        "\n",
        "| text                                          | model         | time | NLP-topic |\n",
        "|-----------------------------------------------|---------------|------|-------|\n",
        "| The front right lamp is not working in my car | Tesla Model 3 | ...  | None  |\n",
        "| I need a new handle for the glove box         | Audi A3 V8    | ...  | None  |\n",
        "| ...                                           | ...           | ...  | ...   |"
      ],
      "metadata": {
        "id": "xew3APm22_F0"
      }
    },
    {
      "cell_type": "code",
      "source": [
        "'''\n",
        "import psycopg2\n",
        "\n",
        "conn = psycopg2.connect(database=\"db_name\",\n",
        "                        host=\"db_host\",\n",
        "                        user=\"db_user\",\n",
        "                        password=\"db_pass\",\n",
        "                        port=\"db_port\")\n",
        "cursor = conn.cursor()\n",
        "#Get topics\n",
        "cursor.execute(\"SELECT name, example FROM topics\")\n",
        "topicDB = cursor.fetchall()\n",
        "'''\n",
        "topicDB = [('Breaks', 'I need new breaks'), ('Lights', 'The Headlight is not working'), ('Breaks', 'The break disks need to be exchanged')]\n",
        "\n",
        "topics = []\n",
        "for row in topicDB:\n",
        "  topics.append(row[0])\n",
        "#delete duplicates\n",
        "topics = list(set(topics))\n",
        "\n",
        "'''\n",
        "#Get sentences\n",
        "cursor.execute(\"SELECT text FROM post\")\n",
        "raw_textDB = cursor.fetchall()\n",
        "textDB = []\n",
        "for row in raw_textDB:\n",
        "  textDB.append(row[0])\n",
        "'''\n",
        "textDB = [\"The front right lamp is not working in my car\", \"I need a new handle for the glove box\"]\n",
        "for text in textDB:\n",
        "  print(\"\\x1b[31m\\n\\n\\n--- Text: \" + text + \" ---\\n\\x1b[0m\")\n",
        "  sentence = [text]\n",
        "  scores = []\n",
        "\n",
        "  #Use roberta for each topic\n",
        "  for topic in topics:\n",
        "    print(\"\\n--- Similarity of '\" + topic + \"' to '\" + sentence[0] + \"' ---\")\n",
        "    #Get the examples for the topic\n",
        "    examples = []\n",
        "    for row in topicDB:\n",
        "      if row[0]==topic:\n",
        "        examples.append(row[1])\n",
        "    sentences = sentence + examples\n",
        "    #calculate roberta scores for examples\n",
        "    model = SentenceTransformer('T-Systems-onsite/german-roberta-sentence-transformer-v2')\n",
        "    embeddings = model.encode(sentences)\n",
        "    similarity_matrix = cosine_similarity(embeddings)\n",
        "    # Print the similarity matrix\n",
        "    average_score = 0\n",
        "    for j in range(1, len(sentences)):\n",
        "        print(f\"Similarity between '{sentences[0]}' and '{sentences[j]}': {similarity_matrix[0, j]}\")\n",
        "        average_score += similarity_matrix[0, j]\n",
        "    print(\"---> Average: \", average_score/(len(sentences)-1))\n",
        "    scores.append(average_score/(len(sentences)-1))\n",
        "  # Summary\n",
        "  print(\"\\n--- Summary ---\")\n",
        "  for i in range(len(topics)):\n",
        "    print(str(topics[i]) + \": \" + str(scores[i]))\n",
        "  if scores[scores.index(max(scores))] > 0.3:\n",
        "    print(\"---> Best match: \" + str(topics[scores.index(max(scores))]) + \" (\" + str(scores[scores.index(max(scores))]) + \")\")\n",
        "  else:\n",
        "    print(\"---> Best match: No topic matches\")\n",
        "  # --> Send result back to database, write in \"NLP topic\" column"
      ],
      "metadata": {
        "colab": {
          "base_uri": "https://localhost:8080/"
        },
        "id": "QMzrZUqc0cM0",
        "outputId": "75242c75-f001-492d-8e67-7eb56ee59682"
      },
      "execution_count": null,
      "outputs": [
        {
          "output_type": "stream",
          "name": "stdout",
          "text": [
            "\u001b[31m\n",
            "\n",
            "\n",
            "--- Text: The front right lamp is not working in my car ---\n",
            "\u001b[0m\n",
            "\n",
            "--- Similarity of 'Breaks' to 'The front right lamp is not working in my car' ---\n"
          ]
        },
        {
          "output_type": "stream",
          "name": "stderr",
          "text": [
            "WARNING:sentence_transformers.SentenceTransformer:No sentence-transformers model found with name /root/.cache/torch/sentence_transformers/T-Systems-onsite_german-roberta-sentence-transformer-v2. Creating a new one with MEAN pooling.\n"
          ]
        },
        {
          "output_type": "stream",
          "name": "stdout",
          "text": [
            "Similarity between 'The front right lamp is not working in my car' and 'I need new breaks': 0.08264094591140747\n",
            "Similarity between 'The front right lamp is not working in my car' and 'The break disks need to be exchanged': -0.050796836614608765\n",
            "---> Average:  0.015922054648399353\n",
            "\n",
            "--- Similarity of 'Lights' to 'The front right lamp is not working in my car' ---\n"
          ]
        },
        {
          "output_type": "stream",
          "name": "stderr",
          "text": [
            "WARNING:sentence_transformers.SentenceTransformer:No sentence-transformers model found with name /root/.cache/torch/sentence_transformers/T-Systems-onsite_german-roberta-sentence-transformer-v2. Creating a new one with MEAN pooling.\n"
          ]
        },
        {
          "output_type": "stream",
          "name": "stdout",
          "text": [
            "Similarity between 'The front right lamp is not working in my car' and 'The Headlight is not working': 0.45821309089660645\n",
            "---> Average:  0.45821309089660645\n",
            "\n",
            "--- Summary ---\n",
            "Breaks: 0.015922054648399353\n",
            "Lights: 0.45821309089660645\n",
            "---> Best match: Lights (0.45821309089660645)\n",
            "\u001b[31m\n",
            "\n",
            "\n",
            "--- Text: I need a new handle for the glove box ---\n",
            "\u001b[0m\n",
            "\n",
            "--- Similarity of 'Breaks' to 'I need a new handle for the glove box' ---\n"
          ]
        },
        {
          "output_type": "stream",
          "name": "stderr",
          "text": [
            "WARNING:sentence_transformers.SentenceTransformer:No sentence-transformers model found with name /root/.cache/torch/sentence_transformers/T-Systems-onsite_german-roberta-sentence-transformer-v2. Creating a new one with MEAN pooling.\n"
          ]
        },
        {
          "output_type": "stream",
          "name": "stdout",
          "text": [
            "Similarity between 'I need a new handle for the glove box' and 'I need new breaks': 0.3565499186515808\n",
            "Similarity between 'I need a new handle for the glove box' and 'The break disks need to be exchanged': 0.18209169805049896\n",
            "---> Average:  0.2693208083510399\n",
            "\n",
            "--- Similarity of 'Lights' to 'I need a new handle for the glove box' ---\n"
          ]
        },
        {
          "output_type": "stream",
          "name": "stderr",
          "text": [
            "WARNING:sentence_transformers.SentenceTransformer:No sentence-transformers model found with name /root/.cache/torch/sentence_transformers/T-Systems-onsite_german-roberta-sentence-transformer-v2. Creating a new one with MEAN pooling.\n"
          ]
        },
        {
          "output_type": "stream",
          "name": "stdout",
          "text": [
            "Similarity between 'I need a new handle for the glove box' and 'The Headlight is not working': 0.22251342236995697\n",
            "---> Average:  0.22251342236995697\n",
            "\n",
            "--- Summary ---\n",
            "Breaks: 0.2693208083510399\n",
            "Lights: 0.22251342236995697\n",
            "---> Best match: No topic matches\n"
          ]
        }
      ]
    }
  ]
}
