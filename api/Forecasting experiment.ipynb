{
 "cells": [
  {
   "cell_type": "code",
   "execution_count": 1,
   "id": "2795a960",
   "metadata": {},
   "outputs": [],
   "source": [
    "import pandas as pd\n",
    "import psycopg2\n",
    "import psycopg2.extras"
   ]
  },
  {
   "cell_type": "code",
   "execution_count": 21,
   "id": "07d6873d",
   "metadata": {},
   "outputs": [],
   "source": [
    "from sklearn.preprocessing import LabelEncoder"
   ]
  },
  {
   "cell_type": "code",
   "execution_count": 184,
   "id": "0f6540bb",
   "metadata": {},
   "outputs": [],
   "source": [
    "select_query = \"select model, postdate, topic, brand from forumposts where topic not in ('no match')\""
   ]
  },
  {
   "cell_type": "code",
   "execution_count": 185,
   "id": "73b4c3ce",
   "metadata": {},
   "outputs": [],
   "source": [
    "def db_connect():\n",
    "    connection = psycopg2.connect(\n",
    "        host=\"autosense-1.ciqghxikd2ck.us-east-1.rds.amazonaws.com\",\n",
    "        database=\"postgres\",\n",
    "        user='postgres',\n",
    "        password='AutoSense123?'\n",
    "    )\n",
    "\n",
    "    return connection"
   ]
  },
  {
   "cell_type": "code",
   "execution_count": 186,
   "id": "1b0dc8c2",
   "metadata": {},
   "outputs": [],
   "source": [
    "connection = db_connect()\n",
    "cursor = connection.cursor(cursor_factory = psycopg2.extras.RealDictCursor)\n",
    "\n",
    "cursor.execute(select_query)\n",
    "data = cursor.fetchall()"
   ]
  },
  {
   "cell_type": "code",
   "execution_count": 187,
   "id": "74ec9808",
   "metadata": {},
   "outputs": [],
   "source": [
    "cursor.close()\n",
    "connection.close()"
   ]
  },
  {
   "cell_type": "code",
   "execution_count": 188,
   "id": "5aa4d985",
   "metadata": {},
   "outputs": [],
   "source": [
    "df = pd.DataFrame(data)"
   ]
  },
  {
   "cell_type": "code",
   "execution_count": 189,
   "id": "e9fc10c2",
   "metadata": {},
   "outputs": [
    {
     "data": {
      "text/html": [
       "<div>\n",
       "<style scoped>\n",
       "    .dataframe tbody tr th:only-of-type {\n",
       "        vertical-align: middle;\n",
       "    }\n",
       "\n",
       "    .dataframe tbody tr th {\n",
       "        vertical-align: top;\n",
       "    }\n",
       "\n",
       "    .dataframe thead th {\n",
       "        text-align: right;\n",
       "    }\n",
       "</style>\n",
       "<table border=\"1\" class=\"dataframe\">\n",
       "  <thead>\n",
       "    <tr style=\"text-align: right;\">\n",
       "      <th></th>\n",
       "      <th>model</th>\n",
       "      <th>postdate</th>\n",
       "      <th>topic</th>\n",
       "      <th>brand</th>\n",
       "    </tr>\n",
       "  </thead>\n",
       "  <tbody>\n",
       "    <tr>\n",
       "      <th>0</th>\n",
       "      <td>Q8 e-tron (GE) ab 2018</td>\n",
       "      <td>2021-10-23</td>\n",
       "      <td>Zentralverriegelung</td>\n",
       "      <td>Audi</td>\n",
       "    </tr>\n",
       "    <tr>\n",
       "      <th>1</th>\n",
       "      <td>Q8 e-tron (GE) ab 2018</td>\n",
       "      <td>2020-03-17</td>\n",
       "      <td>Dachträger und Dachboxen</td>\n",
       "      <td>Audi</td>\n",
       "    </tr>\n",
       "    <tr>\n",
       "      <th>2</th>\n",
       "      <td>Q8 e-tron (GE) ab 2018</td>\n",
       "      <td>2020-01-22</td>\n",
       "      <td>Schiebedach Probleme</td>\n",
       "      <td>Audi</td>\n",
       "    </tr>\n",
       "    <tr>\n",
       "      <th>3</th>\n",
       "      <td>Q8 e-tron (GE) ab 2018</td>\n",
       "      <td>2019-05-29</td>\n",
       "      <td>Zentralverriegelung</td>\n",
       "      <td>Audi</td>\n",
       "    </tr>\n",
       "    <tr>\n",
       "      <th>4</th>\n",
       "      <td>Q8 e-tron (GE) ab 2018</td>\n",
       "      <td>2019-06-26</td>\n",
       "      <td>Zentralverriegelung</td>\n",
       "      <td>Audi</td>\n",
       "    </tr>\n",
       "  </tbody>\n",
       "</table>\n",
       "</div>"
      ],
      "text/plain": [
       "                    model    postdate                     topic brand\n",
       "0  Q8 e-tron (GE) ab 2018  2021-10-23       Zentralverriegelung  Audi\n",
       "1  Q8 e-tron (GE) ab 2018  2020-03-17  Dachträger und Dachboxen  Audi\n",
       "2  Q8 e-tron (GE) ab 2018  2020-01-22      Schiebedach Probleme  Audi\n",
       "3  Q8 e-tron (GE) ab 2018  2019-05-29       Zentralverriegelung  Audi\n",
       "4  Q8 e-tron (GE) ab 2018  2019-06-26       Zentralverriegelung  Audi"
      ]
     },
     "execution_count": 189,
     "metadata": {},
     "output_type": "execute_result"
    }
   ],
   "source": [
    "df.head()"
   ]
  },
  {
   "cell_type": "code",
   "execution_count": 190,
   "id": "32d4951d",
   "metadata": {},
   "outputs": [],
   "source": [
    "model_encoder = LabelEncoder()\n",
    "df['model_id'] = model_encoder.fit_transform(df['model'])"
   ]
  },
  {
   "cell_type": "code",
   "execution_count": 191,
   "id": "e3ec4fdd",
   "metadata": {},
   "outputs": [
    {
     "data": {
      "text/plain": [
       "array(['F4 ab 2021'], dtype=object)"
      ]
     },
     "execution_count": 191,
     "metadata": {},
     "output_type": "execute_result"
    }
   ],
   "source": [
    "model_encoder.inverse_transform([8])"
   ]
  },
  {
   "cell_type": "code",
   "execution_count": 192,
   "id": "3d018ce0",
   "metadata": {},
   "outputs": [
    {
     "data": {
      "text/plain": [
       "array(['115, 916, 960, 961, ab 1966',\n",
       "       '164, 167, 930, 932, 936, 937, 1988-2010', '1972-1995',\n",
       "       '939, 940, 955, ab 2005', '949, 952, ab 2016', 'AA, ab 2013',\n",
       "       'AU, ab 2014', 'Alles zum ersten reinen Elektroauto aus München',\n",
       "       'F4 ab 2021', 'Forum für Youngtimer & Oldtimer aller Marken',\n",
       "       'G08 ab 2021', 'ID.3, ID.4 ab 2020', 'Q8 e-tron (GE) ab 2018',\n",
       "       'U11 ab 2023', 'i20 ab 2021'], dtype=object)"
      ]
     },
     "execution_count": 192,
     "metadata": {},
     "output_type": "execute_result"
    }
   ],
   "source": [
    "model_encoder.classes_"
   ]
  },
  {
   "cell_type": "code",
   "execution_count": 193,
   "id": "bca43e8b",
   "metadata": {},
   "outputs": [
    {
     "data": {
      "text/html": [
       "<div>\n",
       "<style scoped>\n",
       "    .dataframe tbody tr th:only-of-type {\n",
       "        vertical-align: middle;\n",
       "    }\n",
       "\n",
       "    .dataframe tbody tr th {\n",
       "        vertical-align: top;\n",
       "    }\n",
       "\n",
       "    .dataframe thead th {\n",
       "        text-align: right;\n",
       "    }\n",
       "</style>\n",
       "<table border=\"1\" class=\"dataframe\">\n",
       "  <thead>\n",
       "    <tr style=\"text-align: right;\">\n",
       "      <th></th>\n",
       "      <th>model</th>\n",
       "      <th>postdate</th>\n",
       "      <th>topic</th>\n",
       "      <th>brand</th>\n",
       "      <th>model_id</th>\n",
       "    </tr>\n",
       "  </thead>\n",
       "  <tbody>\n",
       "    <tr>\n",
       "      <th>79</th>\n",
       "      <td>115, 916, 960, 961, ab 1966</td>\n",
       "      <td>2008-05-10</td>\n",
       "      <td>Schiebedach Probleme</td>\n",
       "      <td>Alfa Romeo</td>\n",
       "      <td>0</td>\n",
       "    </tr>\n",
       "    <tr>\n",
       "      <th>80</th>\n",
       "      <td>115, 916, 960, 961, ab 1966</td>\n",
       "      <td>2013-02-16</td>\n",
       "      <td>Reifen und Felgen</td>\n",
       "      <td>Alfa Romeo</td>\n",
       "      <td>0</td>\n",
       "    </tr>\n",
       "  </tbody>\n",
       "</table>\n",
       "</div>"
      ],
      "text/plain": [
       "                          model    postdate                 topic       brand  \\\n",
       "79  115, 916, 960, 961, ab 1966  2008-05-10  Schiebedach Probleme  Alfa Romeo   \n",
       "80  115, 916, 960, 961, ab 1966  2013-02-16     Reifen und Felgen  Alfa Romeo   \n",
       "\n",
       "    model_id  \n",
       "79         0  \n",
       "80         0  "
      ]
     },
     "execution_count": 193,
     "metadata": {},
     "output_type": "execute_result"
    }
   ],
   "source": [
    "df[df['model_id']==0]"
   ]
  },
  {
   "cell_type": "code",
   "execution_count": 194,
   "id": "a79541e0",
   "metadata": {},
   "outputs": [],
   "source": [
    "def augment_data(row):\n",
    "    augmented_data = []\n",
    "    augmented_data.append(row)\n",
    "    \n",
    "    if row['model_id'] == 2:\n",
    "        rows_to_augment = 5\n",
    "    elif row['model_id'] == 12:\n",
    "        rows_to_augment = 10\n",
    "    else:\n",
    "        rows_to_augment = 40\n",
    "        \n",
    "    for _ in range(rows_to_augment):\n",
    "        augmented_row = row.copy()\n",
    "        augmented_data.append(augmented_row)\n",
    "    \n",
    "    return augmented_data"
   ]
  },
  {
   "cell_type": "code",
   "execution_count": 195,
   "id": "76bfda24",
   "metadata": {},
   "outputs": [],
   "source": [
    "augmented_data = []\n",
    "for _, row in df.iterrows():\n",
    "    augmented_records = augment_data(row)\n",
    "    augmented_data.extend(augmented_records)\n"
   ]
  },
  {
   "cell_type": "code",
   "execution_count": 196,
   "id": "6f557b7e",
   "metadata": {},
   "outputs": [],
   "source": [
    "augmented_df = pd.DataFrame(augmented_data)"
   ]
  },
  {
   "cell_type": "code",
   "execution_count": 197,
   "id": "c4d01d2c",
   "metadata": {},
   "outputs": [
    {
     "data": {
      "text/plain": [
       "14247"
      ]
     },
     "execution_count": 197,
     "metadata": {},
     "output_type": "execute_result"
    }
   ],
   "source": [
    "len(augmented_df)"
   ]
  },
  {
   "cell_type": "code",
   "execution_count": 198,
   "id": "80fce5ba",
   "metadata": {},
   "outputs": [
    {
     "data": {
      "text/plain": [
       "1157"
      ]
     },
     "execution_count": 198,
     "metadata": {},
     "output_type": "execute_result"
    }
   ],
   "source": [
    "len(df)"
   ]
  },
  {
   "cell_type": "code",
   "execution_count": 199,
   "id": "ef28be79",
   "metadata": {},
   "outputs": [
    {
     "data": {
      "text/plain": [
       "<Axes: xlabel='model_id'>"
      ]
     },
     "execution_count": 199,
     "metadata": {},
     "output_type": "execute_result"
    },
    {
     "data": {
      "image/png": "[encoded data removed]",
      "text/plain": [
       "<Figure size 640x480 with 1 Axes>"
      ]
     },
     "metadata": {},
     "output_type": "display_data"
    }
   ],
   "source": [
    "df[['topic', 'model_id']].groupby(by=['model_id']).count().plot.bar()"
   ]
  },
  {
   "cell_type": "code",
   "execution_count": 200,
   "id": "6d0c24fd",
   "metadata": {},
   "outputs": [
    {
     "data": {
      "text/plain": [
       "<Axes: xlabel='model_id'>"
      ]
     },
     "execution_count": 200,
     "metadata": {},
     "output_type": "execute_result"
    },
    {
     "data": {
      "image/png": "[encoded data removed]",
      "text/plain": [
       "<Figure size 640x480 with 1 Axes>"
      ]
     },
     "metadata": {},
     "output_type": "display_data"
    }
   ],
   "source": [
    "augmented_df[['topic', 'model_id']].groupby(by=['model_id']).count().plot.bar()"
   ]
  },
  {
   "cell_type": "code",
   "execution_count": 201,
   "id": "15ce1c8b",
   "metadata": {},
   "outputs": [
    {
     "data": {
      "text/plain": [
       "<Axes: xlabel='topic'>"
      ]
     },
     "execution_count": 201,
     "metadata": {},
     "output_type": "execute_result"
    },
    {
     "data": {
      "image/png": "[encoded data removed]",
      "text/plain": [
       "<Figure size 640x480 with 1 Axes>"
      ]
     },
     "metadata": {},
     "output_type": "display_data"
    }
   ],
   "source": [
    "df[['topic', 'model_id']].groupby(by=['topic']).count().plot.bar()"
   ]
  },
  {
   "cell_type": "code",
   "execution_count": 202,
   "id": "70c61d4d",
   "metadata": {},
   "outputs": [
    {
     "data": {
      "text/plain": [
       "<Axes: xlabel='topic'>"
      ]
     },
     "execution_count": 202,
     "metadata": {},
     "output_type": "execute_result"
    },
    {
     "data": {
      "image/png": "[encoded data removed]",
      "text/plain": [
       "<Figure size 640x480 with 1 Axes>"
      ]
     },
     "metadata": {},
     "output_type": "display_data"
    }
   ],
   "source": [
    "augmented_df[['topic', 'model_id']].groupby(by=['topic']).count().plot.bar()"
   ]
  },
  {
   "cell_type": "markdown",
   "id": "b4bfd0ac",
   "metadata": {},
   "source": [
    "## Forecasting"
   ]
  },
  {
   "cell_type": "code",
   "execution_count": 118,
   "id": "a746458e",
   "metadata": {},
   "outputs": [],
   "source": [
    "from statsmodels.tsa.arima.model import ARIMA"
   ]
  },
  {
   "cell_type": "code",
   "execution_count": 159,
   "id": "e2be380c",
   "metadata": {},
   "outputs": [],
   "source": [
    "temp_df = augmented_df.copy()"
   ]
  },
  {
   "cell_type": "code",
   "execution_count": 160,
   "id": "88be960f",
   "metadata": {},
   "outputs": [],
   "source": [
    "temp_df['postdate'] = pd.to_datetime(temp_df['postdate'])"
   ]
  },
  {
   "cell_type": "code",
   "execution_count": 161,
   "id": "26f4a7ad",
   "metadata": {},
   "outputs": [],
   "source": [
    "temp_df = temp_df[temp_df['postdate'] < '2023-06-30']"
   ]
  },
  {
   "cell_type": "code",
   "execution_count": 162,
   "id": "f06dede4",
   "metadata": {},
   "outputs": [],
   "source": [
    "temp_df = temp_df[temp_df['model_id'] == 8]"
   ]
  },
  {
   "cell_type": "code",
   "execution_count": 163,
   "id": "cd70c72d",
   "metadata": {},
   "outputs": [],
   "source": [
    "quarter_counts = temp_df.groupby(pd.Grouper(key='postdate', freq='Q')).size()"
   ]
  },
  {
   "cell_type": "code",
   "execution_count": 164,
   "id": "38538923",
   "metadata": {},
   "outputs": [
    {
     "data": {
      "text/plain": [
       "postdate\n",
       "2021-06-30     82\n",
       "2021-09-30      0\n",
       "2021-12-31     82\n",
       "2022-03-31    287\n",
       "2022-06-30    205\n",
       "2022-09-30     82\n",
       "2022-12-31    205\n",
       "2023-03-31    492\n",
       "2023-06-30    451\n",
       "Freq: Q-DEC, dtype: int64"
      ]
     },
     "execution_count": 164,
     "metadata": {},
     "output_type": "execute_result"
    }
   ],
   "source": [
    "quarter_counts "
   ]
  },
  {
   "cell_type": "code",
   "execution_count": 165,
   "id": "1e9a69cf",
   "metadata": {},
   "outputs": [],
   "source": [
    "quarter_index = pd.date_range(start=quarter_counts.index[0], periods=len(quarter_counts), freq='Q')"
   ]
  },
  {
   "cell_type": "code",
   "execution_count": 166,
   "id": "5736e4c7",
   "metadata": {},
   "outputs": [
    {
     "data": {
      "text/plain": [
       "DatetimeIndex(['2021-06-30', '2021-09-30', '2021-12-31', '2022-03-31',\n",
       "               '2022-06-30', '2022-09-30', '2022-12-31', '2023-03-31',\n",
       "               '2023-06-30'],\n",
       "              dtype='datetime64[ns]', freq='Q-DEC')"
      ]
     },
     "execution_count": 166,
     "metadata": {},
     "output_type": "execute_result"
    }
   ],
   "source": [
    "quarter_index"
   ]
  },
  {
   "cell_type": "code",
   "execution_count": 167,
   "id": "c931b523",
   "metadata": {},
   "outputs": [],
   "source": [
    "model = ARIMA(quarter_counts, order=(2, 2, 1))"
   ]
  },
  {
   "cell_type": "code",
   "execution_count": 168,
   "id": "df590c67",
   "metadata": {},
   "outputs": [],
   "source": [
    "model_fit = model.fit()"
   ]
  },
  {
   "cell_type": "code",
   "execution_count": 169,
   "id": "c9f67ede",
   "metadata": {},
   "outputs": [],
   "source": [
    "future_quarters = 8  # Number of future quarters to forecast\n",
    "forecast = model_fit.forecast(steps=future_quarters)"
   ]
  },
  {
   "cell_type": "code",
   "execution_count": 170,
   "id": "e098f355",
   "metadata": {},
   "outputs": [
    {
     "data": {
      "text/plain": [
       "2023-09-30    263.367943\n",
       "2023-12-31    375.976315\n",
       "2024-03-31    628.993837\n",
       "2024-06-30    607.285775\n",
       "2024-09-30    451.343418\n",
       "2024-12-31    546.682708\n",
       "2025-03-31    770.160814\n",
       "2025-06-30    763.891253\n",
       "Freq: Q-DEC, Name: predicted_mean, dtype: float64"
      ]
     },
     "execution_count": 170,
     "metadata": {},
     "output_type": "execute_result"
    }
   ],
   "source": [
    "forecast"
   ]
  },
  {
   "cell_type": "code",
   "execution_count": null,
   "id": "75a46026",
   "metadata": {},
   "outputs": [],
   "source": []
  },
  {
   "cell_type": "code",
   "execution_count": null,
   "id": "da595057",
   "metadata": {},
   "outputs": [],
   "source": []
  },
  {
   "cell_type": "code",
   "execution_count": 173,
   "id": "86a768b3",
   "metadata": {},
   "outputs": [],
   "source": [
    "connection = db_connect()\n",
    "cursor = connection.cursor(cursor_factory = psycopg2.extras.RealDictCursor)\n",
    "\n",
    "cursor.execute('select distinct model, brand from forumposts')\n",
    "model_brand = cursor.fetchall()"
   ]
  },
  {
   "cell_type": "code",
   "execution_count": 176,
   "id": "241393d8",
   "metadata": {},
   "outputs": [],
   "source": [
    "model_brand = pd.DataFrame(model_brand)"
   ]
  },
  {
   "cell_type": "code",
   "execution_count": 179,
   "id": "f11e490a",
   "metadata": {},
   "outputs": [],
   "source": [
    "model_brand = dict(model_brand[['model', 'brand']].values)"
   ]
  },
  {
   "cell_type": "code",
   "execution_count": 180,
   "id": "bb982d61",
   "metadata": {},
   "outputs": [
    {
     "data": {
      "text/plain": [
       "{'164, 167, 930, 932, 936, 937, 1988-2010': 'Alfa Romeo',\n",
       " 'G08 ab 2021': 'BMW',\n",
       " '1972-1995': 'Audi',\n",
       " 'i20 ab 2021': 'BMW',\n",
       " '939, 940, 955, ab 2005': 'Alfa Romeo',\n",
       " 'Forum für Youngtimer & Oldtimer aller Marken': 'Audi',\n",
       " 'ID.3, ID.4 ab 2020': 'Volkswagen',\n",
       " 'Alles zum ersten reinen Elektroauto aus München': 'BMW',\n",
       " '115, 916, 960, 961, ab 1966': 'Alfa Romeo',\n",
       " '949, 952, ab 2016': 'Alfa Romeo',\n",
       " 'Q8 e-tron (GE) ab 2018': 'Audi',\n",
       " 'F4 ab 2021': 'Audi',\n",
       " 'U11 ab 2023': 'BMW',\n",
       " 'AU, ab 2014': 'Volkswagen',\n",
       " 'Autogas (LPG), Erdgas (CNG)': 'Audi',\n",
       " 'AA, ab 2013': 'Volkswagen'}"
      ]
     },
     "execution_count": 180,
     "metadata": {},
     "output_type": "execute_result"
    }
   ],
   "source": [
    "model_brand"
   ]
  },
  {
   "cell_type": "code",
   "execution_count": 181,
   "id": "1fc748e2",
   "metadata": {},
   "outputs": [],
   "source": [
    "augmented_df['brand'] = augmented_df.model.map(model_brand)"
   ]
  },
  {
   "cell_type": "code",
   "execution_count": null,
   "id": "71c50caa",
   "metadata": {},
   "outputs": [],
   "source": [
    "data.to_sql('book_details', con = engine, if_exists = 'append', chunksize = 1000)"
   ]
  },
  {
   "cell_type": "code",
   "execution_count": 204,
   "id": "357ccc9a",
   "metadata": {},
   "outputs": [],
   "source": [
    "augmented_df = augmented_df.drop(columns=['model_id'])"
   ]
  },
  {
   "cell_type": "code",
   "execution_count": 207,
   "id": "9f7aaac0",
   "metadata": {},
   "outputs": [],
   "source": [
    "connection = db_connect()"
   ]
  },
  {
   "cell_type": "code",
   "execution_count": 208,
   "id": "0d097847",
   "metadata": {},
   "outputs": [
    {
     "name": "stderr",
     "output_type": "stream",
     "text": [
      "/tmp/ipykernel_46216/2587430919.py:1: UserWarning: pandas only supports SQLAlchemy connectable (engine/connection) or database string URI or sqlite3 DBAPI2 connection. Other DBAPI2 objects are not tested. Please consider using SQLAlchemy.\n",
      "  augmented_df.to_sql('forumposts', con = connection)\n"
     ]
    },
    {
     "ename": "DatabaseError",
     "evalue": "Execution failed on sql 'SELECT name FROM sqlite_master WHERE type='table' AND name=?;': syntax error at or near \";\"\nLINE 1: ...ELECT name FROM sqlite_master WHERE type='table' AND name=?;\n                                                                      ^\n",
     "output_type": "error",
     "traceback": [
      "\u001b[0;31m---------------------------------------------------------------------------\u001b[0m",
      "\u001b[0;31mSyntaxError\u001b[0m                               Traceback (most recent call last)",
      "File \u001b[0;32m~/PycharmProjects/tc-revolt/venv/lib/python3.9/site-packages/pandas/io/sql.py:2202\u001b[0m, in \u001b[0;36mSQLiteDatabase.execute\u001b[0;34m(self, sql, params)\u001b[0m\n\u001b[1;32m   2201\u001b[0m \u001b[38;5;28;01mtry\u001b[39;00m:\n\u001b[0;32m-> 2202\u001b[0m     \u001b[43mcur\u001b[49m\u001b[38;5;241;43m.\u001b[39;49m\u001b[43mexecute\u001b[49m\u001b[43m(\u001b[49m\u001b[43msql\u001b[49m\u001b[43m,\u001b[49m\u001b[43m \u001b[49m\u001b[38;5;241;43m*\u001b[39;49m\u001b[43margs\u001b[49m\u001b[43m)\u001b[49m\n\u001b[1;32m   2203\u001b[0m     \u001b[38;5;28;01mreturn\u001b[39;00m cur\n",
      "\u001b[0;31mSyntaxError\u001b[0m: syntax error at or near \";\"\nLINE 1: ...ELECT name FROM sqlite_master WHERE type='table' AND name=?;\n                                                                      ^\n",
      "\nThe above exception was the direct cause of the following exception:\n",
      "\u001b[0;31mDatabaseError\u001b[0m                             Traceback (most recent call last)",
      "Cell \u001b[0;32mIn[208], line 1\u001b[0m\n\u001b[0;32m----> 1\u001b[0m \u001b[43maugmented_df\u001b[49m\u001b[38;5;241;43m.\u001b[39;49m\u001b[43mto_sql\u001b[49m\u001b[43m(\u001b[49m\u001b[38;5;124;43m'\u001b[39;49m\u001b[38;5;124;43mforumposts\u001b[39;49m\u001b[38;5;124;43m'\u001b[39;49m\u001b[43m,\u001b[49m\u001b[43m \u001b[49m\u001b[43mcon\u001b[49m\u001b[43m \u001b[49m\u001b[38;5;241;43m=\u001b[39;49m\u001b[43m \u001b[49m\u001b[43mconnection\u001b[49m\u001b[43m)\u001b[49m\n",
      "File \u001b[0;32m~/PycharmProjects/tc-revolt/venv/lib/python3.9/site-packages/pandas/core/generic.py:2878\u001b[0m, in \u001b[0;36mNDFrame.to_sql\u001b[0;34m(self, name, con, schema, if_exists, index, index_label, chunksize, dtype, method)\u001b[0m\n\u001b[1;32m   2713\u001b[0m \u001b[38;5;250m\u001b[39m\u001b[38;5;124;03m\"\"\"\u001b[39;00m\n\u001b[1;32m   2714\u001b[0m \u001b[38;5;124;03mWrite records stored in a DataFrame to a SQL database.\u001b[39;00m\n\u001b[1;32m   2715\u001b[0m \n\u001b[0;32m   (...)\u001b[0m\n\u001b[1;32m   2874\u001b[0m \u001b[38;5;124;03m[(1,), (None,), (2,)]\u001b[39;00m\n\u001b[1;32m   2875\u001b[0m \u001b[38;5;124;03m\"\"\"\u001b[39;00m  \u001b[38;5;66;03m# noqa:E501\u001b[39;00m\n\u001b[1;32m   2876\u001b[0m \u001b[38;5;28;01mfrom\u001b[39;00m \u001b[38;5;21;01mpandas\u001b[39;00m\u001b[38;5;21;01m.\u001b[39;00m\u001b[38;5;21;01mio\u001b[39;00m \u001b[38;5;28;01mimport\u001b[39;00m sql\n\u001b[0;32m-> 2878\u001b[0m \u001b[38;5;28;01mreturn\u001b[39;00m \u001b[43msql\u001b[49m\u001b[38;5;241;43m.\u001b[39;49m\u001b[43mto_sql\u001b[49m\u001b[43m(\u001b[49m\n\u001b[1;32m   2879\u001b[0m \u001b[43m    \u001b[49m\u001b[38;5;28;43mself\u001b[39;49m\u001b[43m,\u001b[49m\n\u001b[1;32m   2880\u001b[0m \u001b[43m    \u001b[49m\u001b[43mname\u001b[49m\u001b[43m,\u001b[49m\n\u001b[1;32m   2881\u001b[0m \u001b[43m    \u001b[49m\u001b[43mcon\u001b[49m\u001b[43m,\u001b[49m\n\u001b[1;32m   2882\u001b[0m \u001b[43m    \u001b[49m\u001b[43mschema\u001b[49m\u001b[38;5;241;43m=\u001b[39;49m\u001b[43mschema\u001b[49m\u001b[43m,\u001b[49m\n\u001b[1;32m   2883\u001b[0m \u001b[43m    \u001b[49m\u001b[43mif_exists\u001b[49m\u001b[38;5;241;43m=\u001b[39;49m\u001b[43mif_exists\u001b[49m\u001b[43m,\u001b[49m\n\u001b[1;32m   2884\u001b[0m \u001b[43m    \u001b[49m\u001b[43mindex\u001b[49m\u001b[38;5;241;43m=\u001b[39;49m\u001b[43mindex\u001b[49m\u001b[43m,\u001b[49m\n\u001b[1;32m   2885\u001b[0m \u001b[43m    \u001b[49m\u001b[43mindex_label\u001b[49m\u001b[38;5;241;43m=\u001b[39;49m\u001b[43mindex_label\u001b[49m\u001b[43m,\u001b[49m\n\u001b[1;32m   2886\u001b[0m \u001b[43m    \u001b[49m\u001b[43mchunksize\u001b[49m\u001b[38;5;241;43m=\u001b[39;49m\u001b[43mchunksize\u001b[49m\u001b[43m,\u001b[49m\n\u001b[1;32m   2887\u001b[0m \u001b[43m    \u001b[49m\u001b[43mdtype\u001b[49m\u001b[38;5;241;43m=\u001b[39;49m\u001b[43mdtype\u001b[49m\u001b[43m,\u001b[49m\n\u001b[1;32m   2888\u001b[0m \u001b[43m    \u001b[49m\u001b[43mmethod\u001b[49m\u001b[38;5;241;43m=\u001b[39;49m\u001b[43mmethod\u001b[49m\u001b[43m,\u001b[49m\n\u001b[1;32m   2889\u001b[0m \u001b[43m\u001b[49m\u001b[43m)\u001b[49m\n",
      "File \u001b[0;32m~/PycharmProjects/tc-revolt/venv/lib/python3.9/site-packages/pandas/io/sql.py:769\u001b[0m, in \u001b[0;36mto_sql\u001b[0;34m(frame, name, con, schema, if_exists, index, index_label, chunksize, dtype, method, engine, **engine_kwargs)\u001b[0m\n\u001b[1;32m    764\u001b[0m     \u001b[38;5;28;01mraise\u001b[39;00m \u001b[38;5;167;01mNotImplementedError\u001b[39;00m(\n\u001b[1;32m    765\u001b[0m         \u001b[38;5;124m\"\u001b[39m\u001b[38;5;124m'\u001b[39m\u001b[38;5;124mframe\u001b[39m\u001b[38;5;124m'\u001b[39m\u001b[38;5;124m argument should be either a Series or a DataFrame\u001b[39m\u001b[38;5;124m\"\u001b[39m\n\u001b[1;32m    766\u001b[0m     )\n\u001b[1;32m    768\u001b[0m \u001b[38;5;28;01mwith\u001b[39;00m pandasSQL_builder(con, schema\u001b[38;5;241m=\u001b[39mschema, need_transaction\u001b[38;5;241m=\u001b[39m\u001b[38;5;28;01mTrue\u001b[39;00m) \u001b[38;5;28;01mas\u001b[39;00m pandas_sql:\n\u001b[0;32m--> 769\u001b[0m     \u001b[38;5;28;01mreturn\u001b[39;00m \u001b[43mpandas_sql\u001b[49m\u001b[38;5;241;43m.\u001b[39;49m\u001b[43mto_sql\u001b[49m\u001b[43m(\u001b[49m\n\u001b[1;32m    770\u001b[0m \u001b[43m        \u001b[49m\u001b[43mframe\u001b[49m\u001b[43m,\u001b[49m\n\u001b[1;32m    771\u001b[0m \u001b[43m        \u001b[49m\u001b[43mname\u001b[49m\u001b[43m,\u001b[49m\n\u001b[1;32m    772\u001b[0m \u001b[43m        \u001b[49m\u001b[43mif_exists\u001b[49m\u001b[38;5;241;43m=\u001b[39;49m\u001b[43mif_exists\u001b[49m\u001b[43m,\u001b[49m\n\u001b[1;32m    773\u001b[0m \u001b[43m        \u001b[49m\u001b[43mindex\u001b[49m\u001b[38;5;241;43m=\u001b[39;49m\u001b[43mindex\u001b[49m\u001b[43m,\u001b[49m\n\u001b[1;32m    774\u001b[0m \u001b[43m        \u001b[49m\u001b[43mindex_label\u001b[49m\u001b[38;5;241;43m=\u001b[39;49m\u001b[43mindex_label\u001b[49m\u001b[43m,\u001b[49m\n\u001b[1;32m    775\u001b[0m \u001b[43m        \u001b[49m\u001b[43mschema\u001b[49m\u001b[38;5;241;43m=\u001b[39;49m\u001b[43mschema\u001b[49m\u001b[43m,\u001b[49m\n\u001b[1;32m    776\u001b[0m \u001b[43m        \u001b[49m\u001b[43mchunksize\u001b[49m\u001b[38;5;241;43m=\u001b[39;49m\u001b[43mchunksize\u001b[49m\u001b[43m,\u001b[49m\n\u001b[1;32m    777\u001b[0m \u001b[43m        \u001b[49m\u001b[43mdtype\u001b[49m\u001b[38;5;241;43m=\u001b[39;49m\u001b[43mdtype\u001b[49m\u001b[43m,\u001b[49m\n\u001b[1;32m    778\u001b[0m \u001b[43m        \u001b[49m\u001b[43mmethod\u001b[49m\u001b[38;5;241;43m=\u001b[39;49m\u001b[43mmethod\u001b[49m\u001b[43m,\u001b[49m\n\u001b[1;32m    779\u001b[0m \u001b[43m        \u001b[49m\u001b[43mengine\u001b[49m\u001b[38;5;241;43m=\u001b[39;49m\u001b[43mengine\u001b[49m\u001b[43m,\u001b[49m\n\u001b[1;32m    780\u001b[0m \u001b[43m        \u001b[49m\u001b[38;5;241;43m*\u001b[39;49m\u001b[38;5;241;43m*\u001b[39;49m\u001b[43mengine_kwargs\u001b[49m\u001b[43m,\u001b[49m\n\u001b[1;32m    781\u001b[0m \u001b[43m    \u001b[49m\u001b[43m)\u001b[49m\n",
      "File \u001b[0;32m~/PycharmProjects/tc-revolt/venv/lib/python3.9/site-packages/pandas/io/sql.py:2378\u001b[0m, in \u001b[0;36mSQLiteDatabase.to_sql\u001b[0;34m(self, frame, name, if_exists, index, index_label, schema, chunksize, dtype, method, engine, **engine_kwargs)\u001b[0m\n\u001b[1;32m   2367\u001b[0m             \u001b[38;5;28;01mraise\u001b[39;00m \u001b[38;5;167;01mValueError\u001b[39;00m(\u001b[38;5;124mf\u001b[39m\u001b[38;5;124m\"\u001b[39m\u001b[38;5;132;01m{\u001b[39;00mcol\u001b[38;5;132;01m}\u001b[39;00m\u001b[38;5;124m (\u001b[39m\u001b[38;5;132;01m{\u001b[39;00mmy_type\u001b[38;5;132;01m}\u001b[39;00m\u001b[38;5;124m) not a string\u001b[39m\u001b[38;5;124m\"\u001b[39m)\n\u001b[1;32m   2369\u001b[0m table \u001b[38;5;241m=\u001b[39m SQLiteTable(\n\u001b[1;32m   2370\u001b[0m     name,\n\u001b[1;32m   2371\u001b[0m     \u001b[38;5;28mself\u001b[39m,\n\u001b[0;32m   (...)\u001b[0m\n\u001b[1;32m   2376\u001b[0m     dtype\u001b[38;5;241m=\u001b[39mdtype,\n\u001b[1;32m   2377\u001b[0m )\n\u001b[0;32m-> 2378\u001b[0m \u001b[43mtable\u001b[49m\u001b[38;5;241;43m.\u001b[39;49m\u001b[43mcreate\u001b[49m\u001b[43m(\u001b[49m\u001b[43m)\u001b[49m\n\u001b[1;32m   2379\u001b[0m \u001b[38;5;28;01mreturn\u001b[39;00m table\u001b[38;5;241m.\u001b[39minsert(chunksize, method)\n",
      "File \u001b[0;32m~/PycharmProjects/tc-revolt/venv/lib/python3.9/site-packages/pandas/io/sql.py:903\u001b[0m, in \u001b[0;36mSQLTable.create\u001b[0;34m(self)\u001b[0m\n\u001b[1;32m    902\u001b[0m \u001b[38;5;28;01mdef\u001b[39;00m \u001b[38;5;21mcreate\u001b[39m(\u001b[38;5;28mself\u001b[39m) \u001b[38;5;241m-\u001b[39m\u001b[38;5;241m>\u001b[39m \u001b[38;5;28;01mNone\u001b[39;00m:\n\u001b[0;32m--> 903\u001b[0m     \u001b[38;5;28;01mif\u001b[39;00m \u001b[38;5;28;43mself\u001b[39;49m\u001b[38;5;241;43m.\u001b[39;49m\u001b[43mexists\u001b[49m\u001b[43m(\u001b[49m\u001b[43m)\u001b[49m:\n\u001b[1;32m    904\u001b[0m         \u001b[38;5;28;01mif\u001b[39;00m \u001b[38;5;28mself\u001b[39m\u001b[38;5;241m.\u001b[39mif_exists \u001b[38;5;241m==\u001b[39m \u001b[38;5;124m\"\u001b[39m\u001b[38;5;124mfail\u001b[39m\u001b[38;5;124m\"\u001b[39m:\n\u001b[1;32m    905\u001b[0m             \u001b[38;5;28;01mraise\u001b[39;00m \u001b[38;5;167;01mValueError\u001b[39;00m(\u001b[38;5;124mf\u001b[39m\u001b[38;5;124m\"\u001b[39m\u001b[38;5;124mTable \u001b[39m\u001b[38;5;124m'\u001b[39m\u001b[38;5;132;01m{\u001b[39;00m\u001b[38;5;28mself\u001b[39m\u001b[38;5;241m.\u001b[39mname\u001b[38;5;132;01m}\u001b[39;00m\u001b[38;5;124m'\u001b[39m\u001b[38;5;124m already exists.\u001b[39m\u001b[38;5;124m\"\u001b[39m)\n",
      "File \u001b[0;32m~/PycharmProjects/tc-revolt/venv/lib/python3.9/site-packages/pandas/io/sql.py:889\u001b[0m, in \u001b[0;36mSQLTable.exists\u001b[0;34m(self)\u001b[0m\n\u001b[1;32m    888\u001b[0m \u001b[38;5;28;01mdef\u001b[39;00m \u001b[38;5;21mexists\u001b[39m(\u001b[38;5;28mself\u001b[39m):\n\u001b[0;32m--> 889\u001b[0m     \u001b[38;5;28;01mreturn\u001b[39;00m \u001b[38;5;28;43mself\u001b[39;49m\u001b[38;5;241;43m.\u001b[39;49m\u001b[43mpd_sql\u001b[49m\u001b[38;5;241;43m.\u001b[39;49m\u001b[43mhas_table\u001b[49m\u001b[43m(\u001b[49m\u001b[38;5;28;43mself\u001b[39;49m\u001b[38;5;241;43m.\u001b[39;49m\u001b[43mname\u001b[49m\u001b[43m,\u001b[49m\u001b[43m \u001b[49m\u001b[38;5;28;43mself\u001b[39;49m\u001b[38;5;241;43m.\u001b[39;49m\u001b[43mschema\u001b[49m\u001b[43m)\u001b[49m\n",
      "File \u001b[0;32m~/PycharmProjects/tc-revolt/venv/lib/python3.9/site-packages/pandas/io/sql.py:2385\u001b[0m, in \u001b[0;36mSQLiteDatabase.has_table\u001b[0;34m(self, name, schema)\u001b[0m\n\u001b[1;32m   2382\u001b[0m wld \u001b[38;5;241m=\u001b[39m \u001b[38;5;124m\"\u001b[39m\u001b[38;5;124m?\u001b[39m\u001b[38;5;124m\"\u001b[39m\n\u001b[1;32m   2383\u001b[0m query \u001b[38;5;241m=\u001b[39m \u001b[38;5;124mf\u001b[39m\u001b[38;5;124m\"\u001b[39m\u001b[38;5;124mSELECT name FROM sqlite_master WHERE type=\u001b[39m\u001b[38;5;124m'\u001b[39m\u001b[38;5;124mtable\u001b[39m\u001b[38;5;124m'\u001b[39m\u001b[38;5;124m AND name=\u001b[39m\u001b[38;5;132;01m{\u001b[39;00mwld\u001b[38;5;132;01m}\u001b[39;00m\u001b[38;5;124m;\u001b[39m\u001b[38;5;124m\"\u001b[39m\n\u001b[0;32m-> 2385\u001b[0m \u001b[38;5;28;01mreturn\u001b[39;00m \u001b[38;5;28mlen\u001b[39m(\u001b[38;5;28;43mself\u001b[39;49m\u001b[38;5;241;43m.\u001b[39;49m\u001b[43mexecute\u001b[49m\u001b[43m(\u001b[49m\u001b[43mquery\u001b[49m\u001b[43m,\u001b[49m\u001b[43m \u001b[49m\u001b[43m[\u001b[49m\u001b[43mname\u001b[49m\u001b[43m]\u001b[49m\u001b[43m)\u001b[49m\u001b[38;5;241m.\u001b[39mfetchall()) \u001b[38;5;241m>\u001b[39m \u001b[38;5;241m0\u001b[39m\n",
      "File \u001b[0;32m~/PycharmProjects/tc-revolt/venv/lib/python3.9/site-packages/pandas/io/sql.py:2214\u001b[0m, in \u001b[0;36mSQLiteDatabase.execute\u001b[0;34m(self, sql, params)\u001b[0m\n\u001b[1;32m   2211\u001b[0m     \u001b[38;5;28;01mraise\u001b[39;00m ex \u001b[38;5;28;01mfrom\u001b[39;00m \u001b[38;5;21;01minner_exc\u001b[39;00m\n\u001b[1;32m   2213\u001b[0m ex \u001b[38;5;241m=\u001b[39m DatabaseError(\u001b[38;5;124mf\u001b[39m\u001b[38;5;124m\"\u001b[39m\u001b[38;5;124mExecution failed on sql \u001b[39m\u001b[38;5;124m'\u001b[39m\u001b[38;5;132;01m{\u001b[39;00msql\u001b[38;5;132;01m}\u001b[39;00m\u001b[38;5;124m'\u001b[39m\u001b[38;5;124m: \u001b[39m\u001b[38;5;132;01m{\u001b[39;00mexc\u001b[38;5;132;01m}\u001b[39;00m\u001b[38;5;124m\"\u001b[39m)\n\u001b[0;32m-> 2214\u001b[0m \u001b[38;5;28;01mraise\u001b[39;00m ex \u001b[38;5;28;01mfrom\u001b[39;00m \u001b[38;5;21;01mexc\u001b[39;00m\n",
      "\u001b[0;31mDatabaseError\u001b[0m: Execution failed on sql 'SELECT name FROM sqlite_master WHERE type='table' AND name=?;': syntax error at or near \";\"\nLINE 1: ...ELECT name FROM sqlite_master WHERE type='table' AND name=?;\n                                                                      ^\n"
     ]
    }
   ],
   "source": [
    "augmented_df.to_sql('forumposts', con = connection)"
   ]
  },
  {
   "cell_type": "code",
   "execution_count": 213,
   "id": "efbdcd26",
   "metadata": {},
   "outputs": [],
   "source": [
    "cursor = connection.cursor()\n",
    "cursor.-('insert into ForumPosts(model, postdate, brand, topic) values(%s, %s, %s, %s)', \n",
    "                  [(row.model, row.postdate, row.brand, row.topic) for _, row in augmented_df.iterrows()])"
   ]
  },
  {
   "cell_type": "code",
   "execution_count": 214,
   "id": "51873935",
   "metadata": {},
   "outputs": [],
   "source": [
    "cursor.close()\n",
    "connection.commit()"
   ]
  },
  {
   "cell_type": "code",
   "execution_count": null,
   "id": "98e4c1a4",
   "metadata": {},
   "outputs": [],
   "source": []
  }
 ],
 "metadata": {
  "kernelspec": {
   "display_name": "Python 3 (ipykernel)",
   "language": "python",
   "name": "python3"
  },
  "language_info": {
   "codemirror_mode": {
    "name": "ipython",
    "version": 3
   },
   "file_extension": ".py",
   "mimetype": "text/x-python",
   "name": "python",
   "nbconvert_exporter": "python",
   "pygments_lexer": "ipython3",
   "version": "3.9.17"
  }
 },
 "nbformat": 4,
 "nbformat_minor": 5
}
